{
 "cells": [
  {
   "cell_type": "code",
   "execution_count": null,
   "metadata": {},
   "outputs": [],
   "source": [
    "#A policy is built first and then the Wumpus world is initialized and actions are executed"
   ]
  },
  {
   "cell_type": "code",
   "execution_count": 1,
   "metadata": {},
   "outputs": [],
   "source": [
    "using POMDPs   #For general POMDP functions\n",
    "#POMDPs.add(\"POMDPToolbox\")   #For model production some of the solving-related functions\n",
    "#Pkg.add(\"Distributions\")     #For use of the SparseCat distribution\n",
    "#Pkg.add(\"SARSOP\")            #For the solver itself (the using statement follows below)\n",
    "\n",
    "using Distributions\n",
    "using POMDPToolbox\n",
    "using SARSOP"
   ]
  },
  {
   "cell_type": "code",
   "execution_count": 2,
   "metadata": {},
   "outputs": [],
   "source": [
    "struct GridState\n",
    "    xA::Int64\n",
    "    yA::Int64\n",
    "    xGold::Int64\n",
    "    yGold::Int64\n",
    "    xPit1::Int64\n",
    "    yPit1::Int64\n",
    "    xPit2::Int64\n",
    "    yPit2::Int64\n",
    "    xWumpus::Int64\n",
    "    yWumpus::Int64\n",
    "end"
   ]
  },
  {
   "cell_type": "code",
   "execution_count": 3,
   "metadata": {},
   "outputs": [],
   "source": [
    "struct Observation\n",
    "    gold::Bool\n",
    "    breeze::Bool\n",
    "    stench::Bool\n",
    "    bump::Bool\n",
    "end"
   ]
  },
  {
   "cell_type": "code",
   "execution_count": 4,
   "metadata": {},
   "outputs": [
    {
     "data": {
      "text/plain": [
       "GridState"
      ]
     },
     "execution_count": 4,
     "metadata": {},
     "output_type": "execute_result"
    }
   ],
   "source": [
    "GridState(xA::Int64, yA::Int64) = GridState(xA,yA,1,1,2,2,4,1,1,4)"
   ]
  },
  {
   "cell_type": "code",
   "execution_count": 5,
   "metadata": {},
   "outputs": [
    {
     "data": {
      "text/plain": [
       "goldFound (generic function with 1 method)"
      ]
     },
     "execution_count": 5,
     "metadata": {},
     "output_type": "execute_result"
    }
   ],
   "source": [
    "goldFound(s1::GridState) = s1.xA==s1.xGold && s1.yA==s1.yGold"
   ]
  },
  {
   "cell_type": "code",
   "execution_count": 6,
   "metadata": {},
   "outputs": [
    {
     "data": {
      "text/plain": [
       "pitFound (generic function with 1 method)"
      ]
     },
     "execution_count": 6,
     "metadata": {},
     "output_type": "execute_result"
    }
   ],
   "source": [
    "pitFound(s1::GridState) = (s1.xA==s1.xPit1 && s1.yA==s1.yPit1) || (s1.xA==s1.xPit2 && s1.yA==s1.yPit2)"
   ]
  },
  {
   "cell_type": "code",
   "execution_count": 7,
   "metadata": {},
   "outputs": [
    {
     "data": {
      "text/plain": [
       "wumpusFound (generic function with 1 method)"
      ]
     },
     "execution_count": 7,
     "metadata": {},
     "output_type": "execute_result"
    }
   ],
   "source": [
    "wumpusFound(s1::GridState) = s1.xA==s1.xWumpus && s1.yA==s1.yWumpus"
   ]
  },
  {
   "cell_type": "code",
   "execution_count": 8,
   "metadata": {},
   "outputs": [],
   "source": [
    "type GridPOMDP <: POMDP{GridState, Int64, Observation} #{states, actions, observations}\n",
    "    size_x::Int64       #Number of grid cells in the x-direction\n",
    "    size_y::Int64       #Number of grid cells in the x-direction\n",
    "    r_gold::Int64       #Reward for finding gold(+1000)\n",
    "    r_pit::Int64        #Reward for falling in pit/wumpus(-1000)\n",
    "    r_wumpus::Int64\n",
    "    r_move::Int64       #Reward for actions(-1)\n",
    "    discount::Float64   #Discount factor\n",
    "    states::Array{GridState, 1}\n",
    "end"
   ]
  },
  {
   "cell_type": "code",
   "execution_count": 11,
   "metadata": {},
   "outputs": [],
   "source": [
    "function GridPOMDP()\n",
    "    return GridPOMDP(4,4,1000,-1000,-1000,-1,0.95, [])\n",
    "end;"
   ]
  },
  {
   "cell_type": "code",
   "execution_count": 12,
   "metadata": {},
   "outputs": [
    {
     "data": {
      "text/plain": [
       "GridPOMDP(4, 4, 1000, -1000, -1000, -1, 0.95, GridState[])"
      ]
     },
     "execution_count": 12,
     "metadata": {},
     "output_type": "execute_result"
    }
   ],
   "source": [
    "pomdp = GridPOMDP()"
   ]
  },
  {
   "cell_type": "code",
   "execution_count": 13,
   "metadata": {},
   "outputs": [],
   "source": [
    "function POMDPs.isterminal(pomdp::GridPOMDP, s::GridState) \n",
    "    if goldFound(s) \n",
    "        true\n",
    "    elseif pitFound(s)\n",
    "        true\n",
    "    elseif wumpusFound(s)\n",
    "        true\n",
    "    else\n",
    "        false\n",
    "    end\n",
    "end"
   ]
  },
  {
   "cell_type": "code",
   "execution_count": 32,
   "metadata": {},
   "outputs": [],
   "source": [
    "function POMDPs.states(pomdp::GridPOMDP)\n",
    "    s = GridState[] #initialize array of GridWorldStates\n",
    "    for xA=1:pomdp.size_x, yA=1:pomdp.size_y, xGold=1:pomdp.size_x, yGold=1:pomdp.size_y, xP1=1:pomdp.size_x, yP1=1:pomdp.size_y, xP2=1:pomdp.size_x, yP2=1:pomdp.size_y, xW=1:pomdp.size_x, yW=1:pomdp.size_y\n",
    "        push!(s, GridState(xA, yA, xGold, yGold, xP1, yP1, xP2, yP2, xW, yW))\n",
    "    end\n",
    "    \n",
    "    states = GridState[]\n",
    "    \n",
    "    for l=1:1000\n",
    "        i = rand(1:length(s))\n",
    "        push!(states, s[i])\n",
    "        deleteat!(s, i)\n",
    "    end\n",
    "    pomdp.states = states\n",
    "    return states   #array of states\n",
    "end;"
   ]
  },
  {
   "cell_type": "code",
   "execution_count": 15,
   "metadata": {},
   "outputs": [],
   "source": [
    "function POMDPs.state_index(pomdp::GridPOMDP, state::GridState)    \n",
    "    return findfirst(pomdp.states, state) #sub2ind((pomdp.size_x, pomdp.size_y, pomdp.size_x, pomdp.size_y, pomdp.size_x, pomdp.size_y, pomdp.size_x, pomdp.size_y, pomdp.size_x, pomdp.size_y), state.xA, state.yA, state.xGold, state.yGold, state.xPit1, state.yPit1, state.xPit2, state.yPit2, state.xWumpus, state.yWumpus)\n",
    "end"
   ]
  },
  {
   "cell_type": "code",
   "execution_count": 16,
   "metadata": {},
   "outputs": [],
   "source": [
    "POMDPs.n_states(p::GridPOMDP) = 1000 #(p.size_x*p.size_y)*(p.size_x*p.size_y)*(p.size_x*p.size_y)*(p.size_x*p.size_y)*(p.size_x*p.size_y)"
   ]
  },
  {
   "cell_type": "code",
   "execution_count": 17,
   "metadata": {},
   "outputs": [],
   "source": [
    "POMDPs.actions(p::GridPOMDP) = [1,2,3,4,5] #1-up, 2-left, 3-right, 4-down, 5-no-op, 6-shoot\n",
    "POMDPs.n_actions(p::GridPOMDP) = 5\n",
    "POMDPs.actions(pomdp::GridPOMDP, state::GridState) = POMDPs.actions(pomdp)"
   ]
  },
  {
   "cell_type": "code",
   "execution_count": 18,
   "metadata": {},
   "outputs": [],
   "source": [
    "function POMDPs.action_index(::GridPOMDP, a::Int64)\n",
    "    if a==1\n",
    "        return 1\n",
    "    elseif a==2\n",
    "        return 2\n",
    "    elseif a==3\n",
    "        return 3\n",
    "    elseif a==4\n",
    "        return 4\n",
    "    elseif a==5\n",
    "        return 5\n",
    "    #elseif a==6\n",
    "    #    return 6\n",
    "    end\n",
    "    error(\"invalid action: $a\")  #note the $ placeholder for var reference in print\n",
    "end;"
   ]
  },
  {
   "cell_type": "code",
   "execution_count": 19,
   "metadata": {},
   "outputs": [
    {
     "data": {
      "text/plain": [
       "isInbounds (generic function with 1 method)"
      ]
     },
     "execution_count": 19,
     "metadata": {},
     "output_type": "execute_result"
    }
   ],
   "source": [
    "function isInbounds(pomdp::GridPOMDP, st::GridState)\n",
    "    if (1 <= st.xA <= pomdp.size_x) && (1 <= st.yA <= pomdp.size_y)\n",
    "        return true\n",
    "    end\n",
    "    return false\n",
    "end"
   ]
  },
  {
   "cell_type": "code",
   "execution_count": 20,
   "metadata": {},
   "outputs": [],
   "source": [
    "wentOutOfBounds = false\n",
    "function POMDPs.transition(p::GridPOMDP, s::GridState, a::Int64)\n",
    "    x = s.xA\n",
    "    y = s.yA \n",
    "    \n",
    "    #The neighbor array represents the possible states to which the\n",
    "    #agent in its current state may transition. The states correspond to \n",
    "    #the integer representation of each action.\n",
    "    neighbor = [\n",
    "        GridState(x,y+1),  #up\n",
    "        GridState(x-1,y),  #left\n",
    "        GridState(x+1,y),  #right\n",
    "        GridState(x,y-1),   #down\n",
    "        GridState(x,y)#,       #original cell\n",
    "        #GridState(x,y)       #original cell but no more wumpus\n",
    "    ]\n",
    "    \n",
    "    #The target cell is the location at the index of the appointed action.\n",
    "    target = neighbor[a]\n",
    "    \n",
    "    #If the target cell is out of bounds, the agent remains in \n",
    "    #the same cell. Otherwise the agent transitions to the target \n",
    "    #cell.\n",
    "    if !isInbounds(p,target)\n",
    "        wentOutOfBounds = true\n",
    "        return SparseCat([s], [1.0])\n",
    "    else\n",
    "        wentOutOfBounds = false\n",
    "        return SparseCat([target], [1.0])\n",
    "    end\n",
    "end"
   ]
  },
  {
   "cell_type": "code",
   "execution_count": 21,
   "metadata": {},
   "outputs": [
    {
     "data": {
      "text/plain": [
       "iterator (generic function with 1 method)"
      ]
     },
     "execution_count": 21,
     "metadata": {},
     "output_type": "execute_result"
    }
   ],
   "source": [
    "tObs = Observation[]\n",
    "\n",
    "for g in [false, true], b in [false, true], st in [false, true], bu in [false, true]\n",
    "    push!(tObs, Observation(g, b, st, bu))\n",
    "end\n",
    "\n",
    "POMDPs.observations(::GridPOMDP) = tObs\n",
    "POMDPs.observations(pomdp::GridPOMDP, s::GridState) = POMDPs.observations(pomdp);\n",
    "POMDPs.n_observations(::GridPOMDP) = 16\n",
    "\n",
    "#The observation distribution establishes the likelihood\n",
    "#of a true observation (glitter)\n",
    "type ObservationDistribution\n",
    "    gold_true::Float64\n",
    "    breeze_true::Float64\n",
    "    stench_true::Float64\n",
    "    bump_true::Float64    \n",
    "end\n",
    "ObservationDistribution() = ObservationDistribution(0.5, 0.5, 0.5, 0.5)\n",
    "iterator(od::ObservationDistribution) = tObs"
   ]
  },
  {
   "cell_type": "code",
   "execution_count": 22,
   "metadata": {},
   "outputs": [],
   "source": [
    "function POMDPs.obs_index(pomdp::GridPOMDP, obs::Observation)\n",
    "    return sub2ind((2, 2, 2, 2), Int(obs.bump+1), Int(obs.stench+1), Int(obs.breeze+1), Int(obs.gold+1))\n",
    "end"
   ]
  },
  {
   "cell_type": "code",
   "execution_count": 36,
   "metadata": {},
   "outputs": [],
   "source": [
    "function POMDPs.pdf(od::ObservationDistribution, obs::Observation)\n",
    "    result = 1.0\n",
    "    \n",
    "    result = obs.gold ? result * od.gold_true : result * (1 - od.gold_true)\n",
    "    result = obs.breeze ? result * od.breeze_true : result * (1 - od.breeze_true)\n",
    "    result = obs.stench ? result * od.stench_true : result * (1 - od.stench_true)\n",
    "    result = obs.bump ? result * od.bump_true : result * (1 - od.bump_true)\n",
    "\n",
    "    return result\n",
    "end"
   ]
  },
  {
   "cell_type": "code",
   "execution_count": 24,
   "metadata": {},
   "outputs": [],
   "source": [
    "function POMDPs.rand(rng::AbstractRNG, od::ObservationDistribution)\n",
    "#     if rand(rng) <= 0.5 #od.op_true\n",
    "#         return true\n",
    "#     else\n",
    "#         return false\n",
    "#     end\n",
    "    temp = Int(ceil(rand(1)/0.0625)[1])\n",
    "    return tObs[temp]\n",
    "end"
   ]
  },
  {
   "cell_type": "code",
   "execution_count": 25,
   "metadata": {},
   "outputs": [
    {
     "data": {
      "text/plain": [
       "pitNearby (generic function with 1 method)"
      ]
     },
     "execution_count": 25,
     "metadata": {},
     "output_type": "execute_result"
    }
   ],
   "source": [
    "pitNearby(s1::GridState) = (s1.xA+1==s1.xPit1 && s1.yA==s1.yPit1) || (s1.xA==s1.xPit1 && s1.yA-1==s1.yPit1) || (s1.xA==s1.xPit1 && s1.yA+1==s1.yPit1) || (s1.xA-1==s1.xPit1 && s1.yA==s1.yPit1) || (s1.xA+1==s1.xPit2 && s1.yA==s1.yPit2) || (s1.xA==s1.xPit2 && s1.yA-1==s1.yPit2) || (s1.xA==s1.xPit2 && s1.yA+1==s1.yPit2) || (s1.xA-1==s1.xPit2 && s1.yA==s1.yPit2)"
   ]
  },
  {
   "cell_type": "code",
   "execution_count": 26,
   "metadata": {},
   "outputs": [
    {
     "data": {
      "text/plain": [
       "wumpusNearby (generic function with 1 method)"
      ]
     },
     "execution_count": 26,
     "metadata": {},
     "output_type": "execute_result"
    }
   ],
   "source": [
    "wumpusNearby(s1::GridState) = (s1.xA+1==s1.xWumpus && s1.yA==s1.yWumpus) || (s1.xA==s1.xWumpus && s1.yA-1==s1.yWumpus) || (s1.xA==s1.xWumpus && s1.yA+1==s1.yWumpus) || (s1.xA-1==s1.xWumpus && s1.yA==s1.yWumpus)"
   ]
  },
  {
   "cell_type": "code",
   "execution_count": 27,
   "metadata": {},
   "outputs": [],
   "source": [
    "function POMDPs.observation(pomdp::GridPOMDP, s::GridState)\n",
    "    od = ObservationDistribution()\n",
    "    if goldFound(s)\n",
    "        od.gold_true = 1.0\n",
    "    else\n",
    "        od.gold_true = 0.0\n",
    "    end\n",
    "    if pitNearby(s)\n",
    "        od.breeze_true = 1.0\n",
    "    else\n",
    "        od.breeze_true = 0.0\n",
    "    end\n",
    "    if wumpusNearby(s)\n",
    "        od.stench_true = 1.0\n",
    "    else\n",
    "        od.stench_true = 0.0\n",
    "    end\n",
    "    if wentOutOfBounds\n",
    "        od.bump_true = 1.0\n",
    "    else\n",
    "        od.bump_true = 0.0\n",
    "    end\n",
    "    od\n",
    "end"
   ]
  },
  {
   "cell_type": "code",
   "execution_count": 28,
   "metadata": {},
   "outputs": [],
   "source": [
    "function POMDPs.reward(p::GridPOMDP, s::GridState, a::Int64)\n",
    "    r = 0.0\n",
    "    if pitFound(s)\n",
    "        r += p.r_pit\n",
    "    elseif wumpusFound(s)\n",
    "        r += p.r_wumpus\n",
    "    elseif goldFound(s)\n",
    "        r +=  p.r_gold\n",
    "    elseif a != 5\n",
    "        r += p.r_move\n",
    "    end\n",
    "    r\n",
    "end"
   ]
  },
  {
   "cell_type": "code",
   "execution_count": 29,
   "metadata": {},
   "outputs": [],
   "source": [
    "POMDPs.reward(pomdp::GridPOMDP, s::GridState, a::Int64, obs::Observation) = reward(pomdp,s,a)\n",
    "POMDPs.discount(p::GridPOMDP) = p.discount"
   ]
  },
  {
   "cell_type": "code",
   "execution_count": 30,
   "metadata": {},
   "outputs": [],
   "source": [
    "function POMDPs.initial_state_distribution(pomdp::GridPOMDP) \n",
    "    return SparseCat([GridState(1,1)], [1.0])\n",
    "end;"
   ]
  },
  {
   "cell_type": "code",
   "execution_count": 37,
   "metadata": {},
   "outputs": [
    {
     "name": "stdout",
     "output_type": "stream",
     "text": [
      "Generating a pomdpx file: model.pomdpx\n",
      "\n",
      "Loading the model ...\n",
      "  input file   : model.pomdpx\n"
     ]
    },
    {
     "name": "stderr",
     "output_type": "stream",
     "text": [
      "WARNING\n",
      "  model.pomdpx:Line 32:\n",
      "  In Belief Function Tables state0\n",
      "  In instance null\n",
      "\n",
      "  Probabilities sum up to 0. It should sum up to 1\n"
     ]
    },
    {
     "ename": "LoadError",
     "evalue": "\u001b[91mfailed process: Process(`/mnt/juliabox/.julia/v0.6/SARSOP/deps/appl/src/pomdpsol model.pomdpx --output out.policy --timeout 100 --trial-improvement-factor 0.5 --policy-interval NaN --memory NaN --precision 0.03`, ProcessExited(255)) [255]\u001b[39m",
     "output_type": "error",
     "traceback": [
      "\u001b[91mfailed process: Process(`/mnt/juliabox/.julia/v0.6/SARSOP/deps/appl/src/pomdpsol model.pomdpx --output out.policy --timeout 100 --trial-improvement-factor 0.5 --policy-interval NaN --memory NaN --precision 0.03`, ProcessExited(255)) [255]\u001b[39m",
      "",
      "Stacktrace:",
      " [1] \u001b[1mpipeline_error\u001b[22m\u001b[22m\u001b[1m(\u001b[22m\u001b[22m::Base.Process\u001b[1m)\u001b[22m\u001b[22m at \u001b[1m./process.jl:682\u001b[22m\u001b[22m",
      " [2] \u001b[1mrun\u001b[22m\u001b[22m\u001b[1m(\u001b[22m\u001b[22m::Cmd\u001b[1m)\u001b[22m\u001b[22m at \u001b[1m./process.jl:651\u001b[22m\u001b[22m",
      " [3] \u001b[1m#solve#5\u001b[22m\u001b[22m\u001b[1m(\u001b[22m\u001b[22m::Bool, ::String, ::Function, ::SARSOP.SARSOPSolver, ::GridPOMDP, ::SARSOP.POMDPPolicy\u001b[1m)\u001b[22m\u001b[22m at \u001b[1m/mnt/juliabox/.julia/v0.6/SARSOP/src/solver.jl:106\u001b[22m\u001b[22m",
      " [4] \u001b[1msolve\u001b[22m\u001b[22m\u001b[1m(\u001b[22m\u001b[22m::SARSOP.SARSOPSolver, ::GridPOMDP\u001b[1m)\u001b[22m\u001b[22m at \u001b[1m/mnt/juliabox/.julia/v0.6/SARSOP/src/solver.jl:94\u001b[22m\u001b[22m",
      " [5] \u001b[1minclude_string\u001b[22m\u001b[22m\u001b[1m(\u001b[22m\u001b[22m::String, ::String\u001b[1m)\u001b[22m\u001b[22m at \u001b[1m./loading.jl:522\u001b[22m\u001b[22m"
     ]
    }
   ],
   "source": [
    "pomdp = GridPOMDP()\n",
    "\n",
    "#SARSOP solver\n",
    "#println(\"SARSOP\")\n",
    "#The using keyword initializes use of the SARSOP Julia solver\n",
    "#using SARSOP\n",
    "\n",
    "#Initializing the solver loads the model file\n",
    "\n",
    "solver = SARSOPSolver()\n",
    "\n",
    "#=\n",
    "Solver options are established through a dictionary that can be initialized in advance or at runtime as described below (note default values) and at \n",
    "https://github.com/JuliaPOMDP/SARSOP.jl/blob/master/src/solver.jl\n",
    "Be aware of some minor format intricacies that are noted below:\n",
    "The SARSOP solver options dictionary:\n",
    "\n",
    "fast::Bool=false, # Use fast (but very picky) alternate parser for .pomdp files\n",
    "randomization::Bool=false, # run ends when target precision is reached\n",
    "precision::Float64=DEFAULT_PRECISION, \n",
    "**DEFAULT_PRECISION = 0.001\n",
    "**Turn on randomization for the sampling algorithm.\n",
    "timeout::Float64=NaN, # [sec] If running time exceeds the specified value, pomdpsol writes out a policy and terminates\n",
    "memory::Float64=NaN, # [MB] If memory usage exceeds the specified value, pomdpsol writes out a policy and terminates\n",
    "trial-improvement-factor::Float64=DEFAULT_TRIAL_IMPROVEMENT_FACTOR,\n",
    "**DEFAULT_TRIAL_IMPROVEMENT_FACTOR = 0.5\n",
    "**A trial terminates at a belief when the gap between its upper and lower bound is within\n",
    "**improvement_constant` of the current precision at the initial belief\n",
    "policy-interval::Float64=NaN \n",
    "**the time interval between two consecutive write-out of policy files; defaults to only exporting at end\n",
    "=#\n",
    "\n",
    "#=\n",
    "Changing solver options (either one or several) from defaults may be accomplished by calliing and reassigning new values to the options dictionary in the initialized SARSOPSolver instance. Note that for bool options (fast and random), the dict initialization to \"true\" is (e.g.) \"randomization\"=>\"\"\n",
    "=#\n",
    "\n",
    "solver.options = Dict(#=\"randomization\"=>\"\",=#\"precision\"=>0.03, \"timeout\"=>100,\"memory\"=>NaN, \"trial-improvement-factor\"=>0.5, \"policy-interval\"=>NaN)\n",
    "\n",
    "\n",
    "\n",
    "#Running the solve function creates and saves the policy file (out.policy)\n",
    "#that determines an action for each state and observation\n",
    "\n",
    "policy = solve(solver, pomdp)"
   ]
  },
  {
   "cell_type": "code",
   "execution_count": null,
   "metadata": {},
   "outputs": [],
   "source": [
    "#alphas(policy)"
   ]
  },
  {
   "cell_type": "code",
   "execution_count": null,
   "metadata": {},
   "outputs": [],
   "source": [
    "b = uniform_belief(pomdp)\n",
    "a = action(policy, b) \n",
    "\n",
    "pomdp = GridPOMDP() # initialize problem\n",
    "init_dist = initial_state_distribution(pomdp) # initialize distribution over state\n",
    "\n",
    "up = updater(policy) # belief updater for the policy\n",
    "\n",
    "hr = HistoryRecorder(max_steps=50, rng=MersenneTwister(1)) # history recorder that keeps track of states, observations and beliefs\n",
    "\n",
    "hist = simulate(hr, pomdp, policy, up, init_dist)"
   ]
  },
  {
   "cell_type": "code",
   "execution_count": null,
   "metadata": {},
   "outputs": [],
   "source": [
    "#Print out each packet of simulated information\n",
    "nxtRew = 0.0\n",
    "for (s, b, a, r, sp, op) in hist\n",
    "    nxtRew = reward(pomdp,sp,a)\n",
    "    println(\"s: $s, b: $(b.b), action: $a, obs: $op\")\n",
    "    println(nxtRew)\n",
    "end\n",
    "res1 = discounted_reward(hist) + nxtRew\n",
    "println(\"Total reward: $res1\")"
   ]
  },
  {
   "cell_type": "code",
   "execution_count": null,
   "metadata": {},
   "outputs": [],
   "source": [
    "pomdp = POMDPFile(pomdp, \"model.pomdpx\")\n",
    "\n",
    "import SARSOP.polgraph\n",
    "import SARSOP.PolicyGraphGenerator\n",
    "import SARSOP._get_options_list\n",
    "graphgen = PolicyGraphGenerator(\"Grid.dot\")\n",
    "polgraph(graphgen, pomdp, policy)"
   ]
  },
  {
   "cell_type": "code",
   "execution_count": null,
   "metadata": {},
   "outputs": [],
   "source": [
    "#chumma123"
   ]
  },
  {
   "cell_type": "code",
   "execution_count": null,
   "metadata": {},
   "outputs": [],
   "source": []
  },
  {
   "cell_type": "code",
   "execution_count": null,
   "metadata": {},
   "outputs": [],
   "source": []
  },
  {
   "cell_type": "code",
   "execution_count": null,
   "metadata": {},
   "outputs": [],
   "source": []
  }
 ],
 "metadata": {
  "kernelspec": {
   "display_name": "Julia 0.6.2",
   "language": "julia",
   "name": "julia-0.6"
  },
  "language_info": {
   "file_extension": ".jl",
   "mimetype": "application/julia",
   "name": "julia",
   "version": "0.6.2"
  }
 },
 "nbformat": 4,
 "nbformat_minor": 2
}
